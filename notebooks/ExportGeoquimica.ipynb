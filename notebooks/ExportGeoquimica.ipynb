{
 "cells": [
  {
   "cell_type": "code",
   "execution_count": null,
   "id": "e8c6589f-96eb-48f2-a946-38e11495c7f9",
   "metadata": {},
   "outputs": [],
   "source": [
    "# Tirar o -n se for rodar no google colab ou jupyter local.\n",
    "# Executar a linha abaixo se não tiver o ArcGIS API instalado\n",
    "# !conda install -n arcgis -qy arcgis\n",
    "!conda install -n arcgis -qy python-slugify geopandas"
   ]
  },
  {
   "cell_type": "code",
   "execution_count": null,
   "id": "657507ac-5b1c-4c5e-b3c9-963b26b3a6d0",
   "metadata": {},
   "outputs": [],
   "source": [
    "from arcgis.gis import GIS\n",
    "# from arcgis.features import FeatureSet\n",
    "\n",
    "from slugify import slugify\n",
    "from pathlib import Path"
   ]
  },
  {
   "cell_type": "code",
   "execution_count": null,
   "id": "1e5d2d03-fbc8-46e7-bf59-4f6e3ff0b826",
   "metadata": {},
   "outputs": [],
   "source": [
    "gis = GIS(\"https://geoportal.sgb.gov.br/portal/\")\n",
    "gis"
   ]
  },
  {
   "cell_type": "markdown",
   "id": "75e9f407-24e3-4f6b-a1d5-211e6d198fbc",
   "metadata": {},
   "source": [
    "# FeatureLayerCollection"
   ]
  },
  {
   "cell_type": "code",
   "execution_count": null,
   "id": "c50b75af-99b2-4e1e-b627-3bb2c0e05ba5",
   "metadata": {},
   "outputs": [],
   "source": [
    "fc = gis.content.get('dc0ec5801eff48ec98924a609f939cbc')\n",
    "fc"
   ]
  },
  {
   "cell_type": "code",
   "execution_count": null,
   "id": "a611471e-f5be-4e82-8025-bb96347f0ca2",
   "metadata": {},
   "outputs": [],
   "source": [
    "[(index, layer.properties.name) for index, layer in enumerate(fc.layers) if layer.properties.relationships]"
   ]
  },
  {
   "cell_type": "markdown",
   "id": "dec9b1e5-4c68-424e-95ac-0f597b19245c",
   "metadata": {},
   "source": [
    "## Começar daqui"
   ]
  },
  {
   "cell_type": "code",
   "execution_count": null,
   "id": "fb4fbfb7-8489-440d-a37d-fc91db41dc72",
   "metadata": {},
   "outputs": [],
   "source": [
    "# colocar o índice do fc.layers correspondente\n",
    "survey_fc = fc.layers[16]\n",
    "survey_fc.properties.name"
   ]
  },
  {
   "cell_type": "markdown",
   "id": "0c030cd2-4c79-4176-9c11-562abc733e4b",
   "metadata": {},
   "source": [
    "### Request Sample data"
   ]
  },
  {
   "cell_type": "code",
   "execution_count": null,
   "id": "9c079c66-3fea-48ba-85cf-b09420be12bd",
   "metadata": {},
   "outputs": [],
   "source": [
    "%%time\n",
    "# FeatureLayer query\n",
    "# https://developers.arcgis.com/python/latest/api-reference/arcgis.features.toc.html#arcgis.features.FeatureLayer.query\n",
    "# Spatially enabled dataframe (FeatureSet returned by query method, calling sdf readonly property)\n",
    "# https://developers.arcgis.com/python/latest/api-reference/arcgis.features.toc.html#arcgis.features.FeatureSet.sdf\n",
    "survey_df = (\n",
    "        survey_fc.query(\n",
    "        # \"projeto_publicacao = 'Folha Petrolina'\",\n",
    "        return_geometry=False\n",
    "    )\n",
    "    .sdf\n",
    "    .set_index(\"objectid\")\n",
    ")\n",
    "\n",
    "survey_df.info()"
   ]
  },
  {
   "cell_type": "markdown",
   "id": "f318c4c1-4213-442f-aa15-be0d999f0655",
   "metadata": {},
   "source": [
    "### Identify related table IDs"
   ]
  },
  {
   "cell_type": "code",
   "execution_count": null,
   "id": "df2b46a3-2d1e-4ef0-8349-bb4354200259",
   "metadata": {},
   "outputs": [],
   "source": [
    "assay_tbl = [(k, t.properties.name) for k, t in enumerate(fc.tables) if t.properties.id == survey_fc.properties.relationships[0].relatedTableId]\n",
    "table_id, table_name = assay_tbl[0]\n",
    "table_id, table_name"
   ]
  },
  {
   "cell_type": "markdown",
   "id": "9ee41deb-7c89-4175-82db-993ca23a0715",
   "metadata": {},
   "source": [
    "### Get Analytic data"
   ]
  },
  {
   "cell_type": "code",
   "execution_count": null,
   "id": "e0a72b33-ad9d-4bdd-b7d4-e4814f66c8bf",
   "metadata": {},
   "outputs": [],
   "source": [
    "%%time\n",
    "\n",
    "# Function to harmonize exported values\n",
    "def valor_to_text(df):\n",
    "    return (\n",
    "        df.qualificador\n",
    "            .fillna(\"\")\n",
    "            .str.cat(df.valor.astype(str), sep='')  \n",
    "            .str.lower()      \n",
    "            .replace(r\"^n+.*$\", \"ND\", regex=True)\n",
    "            .replace(r\"^i+.*$\", \"IS\", regex=True)\n",
    "            .replace(r\"^h+.*$\", \"INF\", regex=True)\n",
    "            .replace(r\"^p+.*$\", \"PRD\", regex=True)\n",
    "    )\n",
    "\n",
    "# Query related table\n",
    "analysis_df = (\n",
    "    fc.tables[table_id]\n",
    "        .query(out_fields=[\"amostra\", \"analito\", \"unidade\", \"qualificador\", \"valor\"])\n",
    "        .sdf\n",
    "        .assign(\n",
    "            analito = lambda df: df.analito.str.cat(df.unidade, sep='_').str.lower(),\n",
    "            valor = valor_to_text\n",
    "        )    \n",
    "        .filter(\n",
    "            [\"amostra\", \"analito\", \"valor\"]\n",
    "        )\n",
    "        .set_index(\n",
    "            [\"amostra\", \"analito\"]\n",
    "        )\n",
    "        .squeeze()\n",
    ")\n",
    "\n",
    "analysis_df"
   ]
  },
  {
   "cell_type": "markdown",
   "id": "231c73ac-70db-43b8-9098-ea617fa430e9",
   "metadata": {},
   "source": [
    "### Test to verify if text data is right"
   ]
  },
  {
   "cell_type": "code",
   "execution_count": null,
   "id": "ebac2353-acfc-468a-9db3-5f253421b56c",
   "metadata": {},
   "outputs": [],
   "source": [
    "analysis_df[analysis_df.str.contains(r'^[A-Za-z].*')].value_counts()"
   ]
  },
  {
   "cell_type": "markdown",
   "id": "aba52176-6dab-419c-9650-a5d13deec380",
   "metadata": {},
   "source": [
    "### Pivot"
   ]
  },
  {
   "cell_type": "code",
   "execution_count": null,
   "id": "585c595b-ee9c-41f1-aa13-6776bbca47ee",
   "metadata": {},
   "outputs": [],
   "source": [
    "%%time\n",
    "\n",
    "analysis_df = (\n",
    "    analysis_df.unstack()\n",
    "        .rename_axis(\"objectid\")\n",
    ")\n",
    "analysis_df"
   ]
  },
  {
   "cell_type": "markdown",
   "id": "e23b322e-b188-48a5-8208-34a5e49a5f90",
   "metadata": {},
   "source": [
    "### Export to CSV"
   ]
  },
  {
   "cell_type": "code",
   "execution_count": null,
   "id": "9be34c3a-d71e-4c14-acbd-b188d38519a6",
   "metadata": {},
   "outputs": [],
   "source": [
    "out_path = Path(\"output\")\n",
    "out_dataset_name = slugify(table_name, separator=\"_\")\n",
    "\n",
    "if not out_path.exists():\n",
    "    out_path.mkdir()\n",
    "\n",
    "# CSV\n",
    "result_df = survey_df.join(analysis_df)\n",
    "\n",
    "result_df.to_csv(\n",
    "    out_path.joinpath(f\"{out_dataset_name}.csv\"),\n",
    "    index=True\n",
    ")\n",
    "\n",
    "result_df.sample(3)"
   ]
  },
  {
   "cell_type": "markdown",
   "id": "8f65c08a-b82a-403d-851e-212cf9cb0a43",
   "metadata": {},
   "source": [
    "### Export to Geopackage"
   ]
  },
  {
   "cell_type": "code",
   "execution_count": null,
   "id": "d2224599-5e3f-4e07-b1b7-5e85720618e1",
   "metadata": {},
   "outputs": [],
   "source": [
    "import geopandas\n",
    "\n",
    "geo_df = geopandas.GeoDataFrame(\n",
    "    result_df, \n",
    "    geometry=geopandas.points_from_xy(result_df.longitude, result_df.latitude), \n",
    "    crs=\"EPSG:4674\"\n",
    ")\n",
    "\n",
    "# Check columns\n",
    "geo_df.to_file(\n",
    "    out_path.joinpath(\"geoquimica.gpkg\"), \n",
    "    layer=out_dataset_name, \n",
    "    driver=\"GPKG\"   # Check PyOGRIO\n",
    ")"
   ]
  }
 ],
 "metadata": {
  "kernelspec": {
   "display_name": "arcgis",
   "language": "python",
   "name": "arcgis"
  },
  "language_info": {
   "codemirror_mode": {
    "name": "ipython",
    "version": 3
   },
   "file_extension": ".py",
   "mimetype": "text/x-python",
   "name": "python",
   "nbconvert_exporter": "python",
   "pygments_lexer": "ipython3",
   "version": "3.11.12"
  }
 },
 "nbformat": 4,
 "nbformat_minor": 5
}
