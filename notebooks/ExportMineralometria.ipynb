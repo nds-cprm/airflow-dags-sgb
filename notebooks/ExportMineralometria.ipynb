{
 "cells": [
  {
   "cell_type": "code",
   "execution_count": null,
   "id": "657507ac-5b1c-4c5e-b3c9-963b26b3a6d0",
   "metadata": {},
   "outputs": [],
   "source": [
    "from arcgis.gis import GIS\n",
    "import pandas as pd\n",
    "# from arcgis.features import FeatureSet\n",
    "\n",
    "from slugify import slugify\n",
    "from pathlib import Path"
   ]
  },
  {
   "cell_type": "code",
   "execution_count": null,
   "id": "1e5d2d03-fbc8-46e7-bf59-4f6e3ff0b826",
   "metadata": {},
   "outputs": [],
   "source": [
    "gis = GIS(\"https://geoportal.sgb.gov.br/portal/\")\n",
    "gis"
   ]
  },
  {
   "cell_type": "markdown",
   "id": "75e9f407-24e3-4f6b-a1d5-211e6d198fbc",
   "metadata": {},
   "source": [
    "# FeatureLayerCollection"
   ]
  },
  {
   "cell_type": "code",
   "execution_count": null,
   "id": "c50b75af-99b2-4e1e-b627-3bb2c0e05ba5",
   "metadata": {},
   "outputs": [],
   "source": [
    "fc = gis.content.get('dc0ec5801eff48ec98924a609f939cbc')\n",
    "fc"
   ]
  },
  {
   "cell_type": "code",
   "execution_count": null,
   "id": "8b32426b-45cd-48f8-bf14-518a6c221ee0",
   "metadata": {},
   "outputs": [],
   "source": [
    "[(index, layer.properties.name) for index, layer in enumerate(fc.layers) if layer.properties.relationships]"
   ]
  },
  {
   "cell_type": "markdown",
   "id": "5f8fcb85-6bcd-43b1-bd2b-04f861445caf",
   "metadata": {},
   "source": [
    "## Começar daqui"
   ]
  },
  {
   "cell_type": "code",
   "execution_count": null,
   "id": "fb4fbfb7-8489-440d-a37d-fc91db41dc72",
   "metadata": {},
   "outputs": [],
   "source": [
    "survey_fc = fc.layers[8]\n",
    "survey_fc.properties.name"
   ]
  },
  {
   "cell_type": "code",
   "execution_count": null,
   "id": "f5ef6e7a-b059-4571-b37f-13b95c5924dc",
   "metadata": {},
   "outputs": [],
   "source": [
    "%%time\n",
    "survey_df = survey_fc.query(\n",
    "    # \"projeto_publicacao = 'Folha Petrolina'\",\n",
    "    return_geometry=False\n",
    ").sdf.set_index(\"objectid\")\n",
    "\n",
    "survey_df.info()"
   ]
  },
  {
   "cell_type": "code",
   "execution_count": null,
   "id": "bb28160c-f9ec-40ce-8709-c24a8b403143",
   "metadata": {},
   "outputs": [],
   "source": [
    "# Identificar tabelas relacionadas\n",
    "related_tables = {}  # index: table\n",
    "\n",
    "for relationship in survey_fc.properties.relationships:\n",
    "    assay_tbl = [(k, t.properties.name) for k, t in enumerate(fc.tables) if t.properties.id == relationship.relatedTableId]\n",
    "    table_id, table_name = assay_tbl[0]\n",
    "    related_tables[table_id] = table_name\n",
    "\n",
    "related_tables"
   ]
  },
  {
   "cell_type": "code",
   "execution_count": null,
   "id": "3c800e7e-dc76-402c-9480-6961070111d1",
   "metadata": {},
   "outputs": [],
   "source": [
    "result_df = survey_df.join(\n",
    "    pd.concat([\n",
    "        fc.tables[i]\n",
    "            .query()\n",
    "            .sdf  \n",
    "            .filter(\n",
    "                [\"amostra\", \"analito\", \"valor\"]\n",
    "            )\n",
    "            .set_index(\n",
    "                [\"amostra\", \"analito\"]\n",
    "            )\n",
    "            .squeeze()\n",
    "            .unstack()\n",
    "            .rename(columns=lambda col: slugify(col, separator=\"_\"))\n",
    "            .sort_index(axis=\"columns\")\n",
    "            .replace({\n",
    "                \"S1\" : \"<1%\",\n",
    "                \"S3\" : \"1-5%\",\n",
    "                \"S15\": \"5-25%\",\n",
    "                \"S40\": \"25-50%\",\n",
    "                \"S60\": \"50-75%\",\n",
    "                \"S85\": \">75%\",\n",
    "                \"X\"  : \">50%\",\n",
    "                \"Y\"  : \"5-50%\",\n",
    "                \"Z\"  : \"<5%\",\n",
    "            })\n",
    "            .rename_axis(\"objectid\")\n",
    "        for i in related_tables.keys()\n",
    "    ], axis=\"columns\")        \n",
    ")\n",
    "\n",
    "out_csv = Path(\"output\").joinpath(slugify(table_name, separator=\"_\") + \".csv\")\n",
    "result_df.to_csv(out_csv, index=True)\n",
    "\n",
    "out_csv"
   ]
  },
  {
   "cell_type": "code",
   "execution_count": null,
   "id": "6d14e7a2-b0d1-4c1b-86ff-b462faba8b59",
   "metadata": {},
   "outputs": [],
   "source": [
    "result_df"
   ]
  }
 ],
 "metadata": {
  "kernelspec": {
   "display_name": "arcgis",
   "language": "python",
   "name": "arcgis"
  },
  "language_info": {
   "codemirror_mode": {
    "name": "ipython",
    "version": 3
   },
   "file_extension": ".py",
   "mimetype": "text/x-python",
   "name": "python",
   "nbconvert_exporter": "python",
   "pygments_lexer": "ipython3",
   "version": "3.11.12"
  }
 },
 "nbformat": 4,
 "nbformat_minor": 5
}
