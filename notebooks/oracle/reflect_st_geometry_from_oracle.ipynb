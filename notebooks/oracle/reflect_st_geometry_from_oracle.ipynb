{
 "cells": [
  {
   "cell_type": "code",
   "execution_count": 1,
   "id": "ca35a9ae-98ae-4613-b02f-1afbb75daf28",
   "metadata": {},
   "outputs": [],
   "source": [
    "# !conda install -n arcgis -qy geopandas sqlalchemy geoalchemy2 psycopg2"
   ]
  },
  {
   "cell_type": "code",
   "execution_count": 2,
   "id": "a7e2e9ff",
   "metadata": {},
   "outputs": [],
   "source": [
    "import geopandas as gpd\n",
    "import oracledb\n",
    "import pickle\n",
    "# import sys\n",
    "\n",
    "# https://stackoverflow.com/questions/74093231/nosuchmoduleerror-cant-load-plugin-sqlalchemy-dialectsoracle-oracledb\n",
    "# oracledb.version = \"8.3.0\"\n",
    "# sys.modules[\"cx_Oracle\"] = oracledb\n",
    "\n",
    "from sqlalchemy import create_engine, event, Table, MetaData, Column, Index, PrimaryKeyConstraint\n",
    "from sqlalchemy.dialects.oracle.base import ischema_names\n",
    "from sqlalchemy.sql import quoted_name, text\n",
    "from sqlalchemy.sql.functions import GenericFunction\n",
    "from sqlalchemy.types import BLOB, NullType, Integer\n",
    "\n",
    "from geoalchemy2.types import Geometry, _GISType\n",
    "from geoalchemy2.elements import WKBElement\n",
    "\n",
    "from pprint import pprint"
   ]
  },
  {
   "cell_type": "markdown",
   "id": "9ccee153-1015-4224-9d01-8012ee3d1551",
   "metadata": {},
   "source": [
    "# Table Reflection"
   ]
  },
  {
   "cell_type": "markdown",
   "id": "8bad07d9",
   "metadata": {},
   "source": [
    "## Parameters"
   ]
  },
  {
   "cell_type": "code",
   "execution_count": 3,
   "id": "5c62a551",
   "metadata": {},
   "outputs": [
    {
     "name": "stdout",
     "output_type": "stream",
     "text": [
      "public.litoestratigrafia_100000\n"
     ]
    }
   ],
   "source": [
    "src_schema_name = \"litoestratigrafia\"\n",
    "src_table_name = \"ue_layer_100000\"\n",
    "\n",
    "dst_schema_name = \"public\"\n",
    "dst_table_name = src_table_name.replace(\"ue_layer\", src_schema_name)\n",
    "dst_table_pk = \"fid\"\n",
    "dst_table_geom = \"geom\"\n",
    "\n",
    "print(f\"{dst_schema_name}.{dst_table_name}\")"
   ]
  },
  {
   "cell_type": "markdown",
   "id": "4d3e9a2f",
   "metadata": {},
   "source": [
    "## Oracle Connection"
   ]
  },
  {
   "cell_type": "code",
   "execution_count": 4,
   "id": "2c0b0468",
   "metadata": {},
   "outputs": [],
   "source": [
    "oracledb.init_oracle_client()\n",
    "\n",
    "with open(\"oracle-dsn.txt\") as f:\n",
    "    src_engine = create_engine(f.read())"
   ]
  },
  {
   "cell_type": "markdown",
   "id": "63c16ac1-90d8-4786-b9d9-5f607222eccd",
   "metadata": {},
   "source": [
    "## Check SDE Version"
   ]
  },
  {
   "cell_type": "code",
   "execution_count": 5,
   "id": "3b6182b9-d606-4c41-b84d-2af4ddfb9657",
   "metadata": {},
   "outputs": [
    {
     "name": "stdout",
     "output_type": "stream",
     "text": [
      "ArcSDE: 10.1.0\n"
     ]
    }
   ],
   "source": [
    "with src_engine.connect() as conn:\n",
    "    _table = 'sde.sde_version'\n",
    "\n",
    "    if conn.dialect.name == 'oracle':\n",
    "        _table = 'sde.version'        \n",
    "\n",
    "    major, minor, bugfix = conn.execute(\n",
    "        text(f\"SELECT major, minor, bugfix FROM {_table}\"),\n",
    "        \n",
    "    ).fetchone()\n",
    "\n",
    "print(f\"ArcSDE: {major}.{minor}.{bugfix}\")"
   ]
  },
  {
   "cell_type": "markdown",
   "id": "868c4a1c-e252-466f-8a05-65c5bdb13d30",
   "metadata": {},
   "source": [
    "## FeatureClass Props"
   ]
  },
  {
   "cell_type": "code",
   "execution_count": 6,
   "id": "122ac1ba-8198-4cb2-9813-c1a22f9f25b1",
   "metadata": {},
   "outputs": [
    {
     "name": "stdout",
     "output_type": "stream",
     "text": [
      "{'litoestratigrafia.ue_layer_100000': {'is_replicated': 'FALSE',\n",
      "                                       'is_simple': 'TRUE',\n",
      "                                       'is_versioned': 'FALSE',\n",
      "                                       'pk': 'OBJECTID'}}\n",
      "CPU times: user 5.68 ms, sys: 538 μs, total: 6.22 ms\n",
      "Wall time: 183 ms\n"
     ]
    }
   ],
   "source": [
    "%%time\n",
    "\n",
    "verbose_table_name = f\"{src_schema_name}.{src_table_name}\"\n",
    "table_props = {}\n",
    "\n",
    "# https://desktop.arcgis.com/en/arcmap/latest/manage-data/using-sql-with-gdbs/\n",
    "with src_engine.connect() as conn:\n",
    "    # Primary key (RowID)\n",
    "    table_props['pk'] = conn.execute(\n",
    "        text(\"SELECT sde.gdb_util.rowid_name(:schema, :table) FROM DUAL\"),\n",
    "        {\"table\": src_table_name, \"schema\": src_schema_name}\n",
    "    ).scalar()\n",
    "\n",
    "    # table_props['is_archive'] = conn.execute(\n",
    "    #     text(\"SELECT sde.gdb_util.IS_ARCHIVE_ENABLED(:schema, :table) FROM DUAL\"),\n",
    "    #     {\"table\": src_table_name.lower(), \"schema\": src_schema_name.lower()}\n",
    "    # ).scalar()\n",
    "\n",
    "    # If a table is not simple, it should not be edited outside ArcGIS.\n",
    "    table_props['is_simple'] = conn.execute(\n",
    "        text(\"SELECT sde.gdb_util.is_simple(:schema, :table) FROM DUAL\"),\n",
    "        {\"table\": src_table_name, \"schema\": src_schema_name}\n",
    "    ).scalar()\n",
    "\n",
    "    table_props['is_versioned'] = conn.execute(\n",
    "        text(\"SELECT sde.gdb_util.IS_VERSIONED(:schema, :table) FROM DUAL\"),\n",
    "        {\"table\": src_table_name, \"schema\": src_schema_name}\n",
    "    ).scalar()\n",
    "\n",
    "    table_props['is_replicated'] = conn.execute(\n",
    "        text(\"SELECT sde.gdb_util.is_replicated(:schema, :table) FROM DUAL\"),\n",
    "        {\"table\": src_table_name, \"schema\": src_schema_name}\n",
    "    ).scalar()\n",
    "\n",
    "pprint({verbose_table_name: table_props})"
   ]
  },
  {
   "cell_type": "code",
   "execution_count": 7,
   "id": "fbc0f414-a5ee-4fd6-b6ba-5861876c4c46",
   "metadata": {},
   "outputs": [
    {
     "name": "stdout",
     "output_type": "stream",
     "text": [
      "{'geometry_columns': [{'has_empty': False,\n",
      "                       'is_3d': False,\n",
      "                       'is_measured': False,\n",
      "                       'is_multi': True,\n",
      "                       'is_simple': True,\n",
      "                       'name': 'SHAPE',\n",
      "                       'srid': 4326,\n",
      "                       'type': 'POLYGON'}],\n",
      " 'is_replicated': 'FALSE',\n",
      " 'is_simple': 'TRUE',\n",
      " 'is_versioned': 'FALSE',\n",
      " 'pk': 'OBJECTID'}\n",
      "CPU times: user 10 ms, sys: 1.56 ms, total: 11.6 ms\n",
      "Wall time: 33.8 s\n"
     ]
    }
   ],
   "source": [
    "%%time\n",
    "\n",
    "geometry_props = []\n",
    "\n",
    "with src_engine.connect() as conn:\n",
    "    geometries = [row[0] for row in conn.execute(\n",
    "        text(\"SELECT sde.gdb_util.geometry_columns(:schema, :table) FROM DUAL\"),\n",
    "        {\"table\": src_table_name, \"schema\": src_schema_name}\n",
    "    ).fetchall()]\n",
    "\n",
    "    geometry_prop = {}\n",
    "    \n",
    "    for geometry in geometries:\n",
    "        # column_name\n",
    "        geometry_prop[\"name\"] = geometry \n",
    "\n",
    "        # SRID\n",
    "        geometry_prop['srid'] = conn.execute(\n",
    "            text(f\"SELECT DISTINCT sde.st_srid({geometry}) FROM {verbose_table_name}\")\n",
    "        ).scalar()\n",
    "\n",
    "        # Geometry type\n",
    "        _type = [row[0] for row in conn.execute(\n",
    "            text(f\"SELECT DISTINCT replace(replace(upper(sde.st_geometrytype({geometry})), 'ST_', ''), 'MULTI', '') FROM {verbose_table_name}\")\n",
    "        ).fetchall()]\n",
    "\n",
    "        assert len(_type) > 0\n",
    "\n",
    "        geometry_prop['type'] = _type[0] if len(_type) == 1 else 'GEOMETRYCOLLECTION'\n",
    "\n",
    "        # Simple or multipart\n",
    "        geometry_prop['is_multi'] = bool(conn.execute(\n",
    "            text(f\"SELECT max(sde.st_numgeometries({geometry})) FROM {verbose_table_name}\")\n",
    "        ).scalar() > 1)\n",
    "\n",
    "        # Empty geometry\n",
    "        geometry_prop['has_empty'] = any([row[0] for row in conn.execute(\n",
    "            text(f\"SELECT DISTINCT sde.st_isempty({geometry}) FROM {verbose_table_name}\")\n",
    "        ).fetchall()])\n",
    "\n",
    "        # 3d\n",
    "        geometry_prop['is_3d'] = any([row[0] for row in conn.execute(\n",
    "            text(f\"SELECT DISTINCT sde.st_is3d({geometry}) FROM {verbose_table_name}\")\n",
    "        ).fetchall()])\n",
    "\n",
    "        # Measured\n",
    "        geometry_prop['is_measured'] = any([row[0] for row in conn.execute(\n",
    "            text(f\"SELECT DISTINCT sde.st_ismeasured({geometry}) FROM {verbose_table_name}\")\n",
    "        ).fetchall()])\n",
    "        \n",
    "        # OGC Simple Feature\n",
    "        geometry_prop['is_simple'] = all([row[0] for row in conn.execute(\n",
    "            text(f\"SELECT DISTINCT sde.st_issimple({geometry}) FROM {verbose_table_name}\")\n",
    "        ).fetchall()])\n",
    "\n",
    "        geometry_props.append(geometry_prop)\n",
    "\n",
    "table_props[\"geometry_columns\"] = geometry_props\n",
    "\n",
    "# Atestar que só tenha uma coluna de geometria\n",
    "assert len(geometries) == 1\n",
    "\n",
    "pprint(table_props)"
   ]
  },
  {
   "cell_type": "markdown",
   "id": "86a82164",
   "metadata": {},
   "source": [
    "## DB Reflection"
   ]
  },
  {
   "cell_type": "code",
   "execution_count": 8,
   "id": "4696d61b",
   "metadata": {},
   "outputs": [],
   "source": [
    "# Function to convert ST_Geometry to WKB\n",
    "class SDEAsBinary(GenericFunction):\n",
    "    type = BLOB\n",
    "    name = quoted_name(\"SDE.ST_ASBINARY\", False)\n",
    "    identifier = \"sde_asbinary\"\n",
    "    inherit_cache=True\n",
    "    \n",
    "# Function to convert text to ST_Geometry (Useless. Only for set property)\n",
    "class SDEFromWKB(GenericFunction):\n",
    "    type = Geometry\n",
    "    name = quoted_name(\"SDE.ST_GEOMFROMWKB\", False)\n",
    "    identifier = \"sde_fromwkb\"\n",
    "    inherit_cache=True\n",
    "    \n",
    "# Emulate ESRI Geometry Type\n",
    "class STGeometry(_GISType):\n",
    "    name = \"shape\"\n",
    "    as_binary = SDEAsBinary.identifier\n",
    "    from_text = SDEFromWKB.identifier\n",
    "    ElementType = WKBElement\n",
    "    cache_ok = False\n",
    "\n",
    "ischema_names['ST_GEOMETRY'] = STGeometry\n",
    "\n",
    "# Schema Metadata\n",
    "src_metadata = MetaData(schema=src_schema_name)\n",
    "\n",
    "# Get geometry props for reflection\n",
    "src_geom_col = table_props[\"geometry_columns\"][0][\"name\"].lower()\n",
    "src_srid = table_props[\"geometry_columns\"][0][\"srid\"]\n",
    "src_table_pk = table_props[\"pk\"].lower()\n",
    "src_geom_type = table_props[\"geometry_columns\"][0][\"type\"].upper()\n",
    "\n",
    "if table_props[\"geometry_columns\"][0][\"is_multi\"] and src_geom_type != \"GEOMETRYCOLLECTION\":\n",
    "    src_geom_type = \"MULTI\" + src_geom_type\n",
    "\n",
    "# Event handler for reflecting columns, for replace oracle to generalized ones\n",
    "@event.listens_for(src_metadata, \"column_reflect\")\n",
    "def genericize_datatypes(inspector, tablename, column_dict):\n",
    "    # Checar Numeric com scale=0 e as_decimal=False: < 5 smallint 5 <= x <= 9, int; > 9 bigint\n",
    "    if not type(column_dict[\"type\"]) is NullType and column_dict[\"name\"] != src_geom_col: \n",
    "        column_dict[\"type\"] = column_dict[\"type\"].as_generic()\n",
    "    else: \n",
    "        column_dict[\"type\"] = STGeometry(src_geom_type, srid=src_srid, spatial_index=False)\n",
    "\n",
    "# New reflected table, from source\n",
    "src_table = Table(\n",
    "    src_table_name, \n",
    "    src_metadata, \n",
    "    autoload_with=src_engine, \n",
    ")\n",
    "\n",
    "# Ignore SRC indexes\n",
    "src_table.indexes = set()"
   ]
  },
  {
   "cell_type": "markdown",
   "id": "f46861dd",
   "metadata": {},
   "source": [
    "### Check columns"
   ]
  },
  {
   "cell_type": "code",
   "execution_count": 9,
   "id": "be064616",
   "metadata": {},
   "outputs": [
    {
     "name": "stdout",
     "output_type": "stream",
     "text": [
      "[Column('objectid', Integer(), table=<ue_layer_100000>, nullable=False),\n",
      " Column('id_unidade_estratigrafica', Numeric(precision=11, scale=0, asdecimal=False), table=<ue_layer_100000>, nullable=False),\n",
      " Column('sigla', Unicode(length=180), table=<ue_layer_100000>, nullable=False),\n",
      " Column('hierarquia', Unicode(length=180), table=<ue_layer_100000>, nullable=False),\n",
      " Column('nome', Unicode(length=361), table=<ue_layer_100000>),\n",
      " Column('ambiente_tectonico', Unicode(length=180), table=<ue_layer_100000>),\n",
      " Column('sub_ambiente_tectonico', Unicode(length=180), table=<ue_layer_100000>),\n",
      " Column('sigla_pai', Unicode(length=180), table=<ue_layer_100000>),\n",
      " Column('nome_pai', Unicode(length=544), table=<ue_layer_100000>),\n",
      " Column('legenda', Unicode(length=2000), table=<ue_layer_100000>),\n",
      " Column('escala', Unicode(length=14), table=<ue_layer_100000>),\n",
      " Column('mapa', Unicode(length=255), table=<ue_layer_100000>, nullable=False),\n",
      " Column('litotipos', Text(), table=<ue_layer_100000>),\n",
      " Column('range', Unicode(length=50), table=<ue_layer_100000>, nullable=False),\n",
      " Column('idade_min', Numeric(precision=38, scale=0, asdecimal=False), table=<ue_layer_100000>, nullable=False),\n",
      " Column('idade_max', Numeric(precision=38, scale=0, asdecimal=False), table=<ue_layer_100000>, nullable=False),\n",
      " Column('eon_min', Unicode(length=180), table=<ue_layer_100000>),\n",
      " Column('eon_max', Unicode(length=180), table=<ue_layer_100000>),\n",
      " Column('era_min', Unicode(length=180), table=<ue_layer_100000>),\n",
      " Column('era_max', Unicode(length=180), table=<ue_layer_100000>),\n",
      " Column('sistema_min', Unicode(length=180), table=<ue_layer_100000>),\n",
      " Column('sistema_max', Unicode(length=180), table=<ue_layer_100000>),\n",
      " Column('epoca_min', Unicode(length=180), table=<ue_layer_100000>),\n",
      " Column('epoca_max', Unicode(length=180), table=<ue_layer_100000>),\n",
      " Column('shape', STGeometry(geometry_type='MULTIPOLYGON', srid=4326, spatial_index=False, from_text='sde_fromwkb', name='shape'), table=<ue_layer_100000>),\n",
      " Column('siglas_historicas', Unicode(length=255), table=<ue_layer_100000>)]\n"
     ]
    }
   ],
   "source": [
    "pprint([column for column in src_table.columns])"
   ]
  },
  {
   "cell_type": "markdown",
   "id": "1fac2ed4-4961-48b5-ad04-ec82a7ef5393",
   "metadata": {},
   "source": [
    "### Select statement"
   ]
  },
  {
   "cell_type": "code",
   "execution_count": 10,
   "id": "47a53c87-ec90-4085-aafd-0ec7551e3c8c",
   "metadata": {},
   "outputs": [
    {
     "name": "stdout",
     "output_type": "stream",
     "text": [
      "('SELECT litoestratigrafia.ue_layer_100000.objectid, '\n",
      " 'litoestratigrafia.ue_layer_100000.id_unidade_estratigrafica, '\n",
      " 'litoestratigrafia.ue_layer_100000.sigla, '\n",
      " 'litoestratigrafia.ue_layer_100000.hierarquia, '\n",
      " 'litoestratigrafia.ue_layer_100000.nome, '\n",
      " 'litoestratigrafia.ue_layer_100000.ambiente_tectonico, '\n",
      " 'litoestratigrafia.ue_layer_100000.sub_ambiente_tectonico, '\n",
      " 'litoestratigrafia.ue_layer_100000.sigla_pai, '\n",
      " 'litoestratigrafia.ue_layer_100000.nome_pai, '\n",
      " 'litoestratigrafia.ue_layer_100000.legenda, '\n",
      " 'litoestratigrafia.ue_layer_100000.escala, '\n",
      " 'litoestratigrafia.ue_layer_100000.mapa, '\n",
      " 'litoestratigrafia.ue_layer_100000.litotipos, '\n",
      " 'litoestratigrafia.ue_layer_100000.range, '\n",
      " 'litoestratigrafia.ue_layer_100000.idade_min, '\n",
      " 'litoestratigrafia.ue_layer_100000.idade_max, '\n",
      " 'litoestratigrafia.ue_layer_100000.eon_min, '\n",
      " 'litoestratigrafia.ue_layer_100000.eon_max, '\n",
      " 'litoestratigrafia.ue_layer_100000.era_min, '\n",
      " 'litoestratigrafia.ue_layer_100000.era_max, '\n",
      " 'litoestratigrafia.ue_layer_100000.sistema_min, '\n",
      " 'litoestratigrafia.ue_layer_100000.sistema_max, '\n",
      " 'litoestratigrafia.ue_layer_100000.epoca_min, '\n",
      " 'litoestratigrafia.ue_layer_100000.epoca_max, '\n",
      " 'SDE.ST_ASBINARY(litoestratigrafia.ue_layer_100000.shape) AS shape, '\n",
      " 'litoestratigrafia.ue_layer_100000.siglas_historicas \\n'\n",
      " 'FROM litoestratigrafia.ue_layer_100000')\n"
     ]
    }
   ],
   "source": [
    "pprint(str(src_table.select()))"
   ]
  },
  {
   "cell_type": "markdown",
   "id": "5949e950",
   "metadata": {},
   "source": [
    "### Test connection & auto query"
   ]
  },
  {
   "cell_type": "code",
   "execution_count": 11,
   "id": "46ea7b3a",
   "metadata": {
    "scrolled": true
   },
   "outputs": [
    {
     "name": "stdout",
     "output_type": "stream",
     "text": [
      "(1591953745, 5863.0, 'PP4ca', 'Complexo', 'Complexo Caracol', None, None, None, None, 'Gnaisse indiferenciado, muscovita-gnaisse; Biotita gnaisse e epidoto biotita gnaisse de composição monzogranítica a sienogranítica, equigranular médi ... (84 characters truncated) ... osicional; Metatonalitos e metatrondhjemitos grossos, foliados a bandados. Idades de cristalização entre 2924 ± 2 Ma a 2948 ± 5 Ma (Pb-Pb em zircão).', '1:100.000', 'Carta geológica da folha Colônia São Lourenço', 'Biotita gnaisse, Gnaisse, Metatonalito, Metatrondhjemito', 'PP4', 1600.0, 1800.0, 'Proterozóico', 'Proterozóico', 'Paleoproterozóico', 'Paleoproterozóico', 'Estateriano', 'Estateriano', 'Inferior', 'Inferior', <WKBElement at 0x7f98b4570190; 0103000000010000006e000000e8bce283809f4cc080a8bbe5fce035c008365c81749f4cc0506c3ff854e135c0a8acf2794f9f4cc09000d28ab1e13 ... (3278 characters truncated) ... f4cc0f060738ae5e035c0e89eb8608c9f4cc030cacdb9d9e035c0809c92d48b9f4cc0007b284bd9e035c0c029dd448a9f4cc0c0d98f0fd8e035c0e8bce283809f4cc080a8bbe5fce035c0>, None)\n"
     ]
    }
   ],
   "source": [
    "with src_engine.connect() as conn:\n",
    "    for row in conn.execute(src_table.select()):\n",
    "        print(row)\n",
    "        break"
   ]
  },
  {
   "cell_type": "markdown",
   "id": "2cc80b90-010c-4bb3-b6cb-db9eac96bda3",
   "metadata": {},
   "source": [
    "## Export structure to pickle"
   ]
  },
  {
   "cell_type": "code",
   "execution_count": 12,
   "id": "3db8c5c5-b826-4fb7-9eba-6744d77eccb4",
   "metadata": {},
   "outputs": [],
   "source": [
    "with open(f'output/{verbose_table_name.replace(\".\", \"-\")}.pkl', 'wb') as f:\n",
    "    pickle.dump(src_table, f)"
   ]
  },
  {
   "cell_type": "markdown",
   "id": "419d1ecb",
   "metadata": {},
   "source": [
    "## Export to Parquet"
   ]
  },
  {
   "cell_type": "code",
   "execution_count": 13,
   "id": "e08eeb8a",
   "metadata": {},
   "outputs": [
    {
     "name": "stdout",
     "output_type": "stream",
     "text": [
      "<class 'geopandas.geodataframe.GeoDataFrame'>\n",
      "Index: 61369 entries, 1591953745 to 1592935633\n",
      "Data columns (total 25 columns):\n",
      " #   Column                     Non-Null Count  Dtype   \n",
      "---  ------                     --------------  -----   \n",
      " 0   id_unidade_estratigrafica  61369 non-null  int64   \n",
      " 1   sigla                      61369 non-null  object  \n",
      " 2   hierarquia                 61369 non-null  object  \n",
      " 3   nome                       61369 non-null  object  \n",
      " 4   ambiente_tectonico         12513 non-null  object  \n",
      " 5   sub_ambiente_tectonico     5448 non-null   object  \n",
      " 6   sigla_pai                  29111 non-null  object  \n",
      " 7   nome_pai                   29111 non-null  object  \n",
      " 8   legenda                    60991 non-null  object  \n",
      " 9   escala                     61369 non-null  object  \n",
      " 10  mapa                       61369 non-null  object  \n",
      " 11  litotipos                  59272 non-null  object  \n",
      " 12  range                      61369 non-null  object  \n",
      " 13  idade_min                  61369 non-null  int64   \n",
      " 14  idade_max                  61369 non-null  int64   \n",
      " 15  eon_min                    61369 non-null  object  \n",
      " 16  eon_max                    61369 non-null  object  \n",
      " 17  era_min                    61369 non-null  object  \n",
      " 18  era_max                    61369 non-null  object  \n",
      " 19  sistema_min                54506 non-null  object  \n",
      " 20  sistema_max                54035 non-null  object  \n",
      " 21  epoca_min                  54506 non-null  object  \n",
      " 22  epoca_max                  54035 non-null  object  \n",
      " 23  geom                       61369 non-null  geometry\n",
      " 24  siglas_historicas          30895 non-null  object  \n",
      "dtypes: geometry(1), int64(3), object(21)\n",
      "memory usage: 12.2+ MB\n"
     ]
    }
   ],
   "source": [
    "with src_engine.connect() as conn:\n",
    "    geodata = (\n",
    "        gpd.read_postgis(\n",
    "            str(src_table.select()), \n",
    "            conn,\n",
    "            geom_col = STGeometry.name,\n",
    "            crs = src_srid\n",
    "        )\n",
    "        .rename_geometry(dst_table_geom)\n",
    "        .rename(columns=lambda col: col.lower())\n",
    "        .rename(columns={src_table_pk: dst_table_pk})\n",
    "        .set_index(dst_table_pk)\n",
    "    )\n",
    "\n",
    "geodata.to_parquet(f'output/{verbose_table_name.replace(\".\", \"-\")}.parquet')\n",
    "\n",
    "geodata.info()"
   ]
  },
  {
   "cell_type": "code",
   "execution_count": 14,
   "id": "56e35ab8",
   "metadata": {},
   "outputs": [
    {
     "data": {
      "text/plain": [
       "<Axes: >"
      ]
     },
     "execution_count": 14,
     "metadata": {},
     "output_type": "execute_result"
    },
    {
     "data": {
      "image/png": "[encoded data removed]",
      "text/plain": [
       "<Figure size 640x480 with 1 Axes>"
      ]
     },
     "metadata": {},
     "output_type": "display_data"
    }
   ],
   "source": [
    "geodata.plot()"
   ]
  },
  {
   "cell_type": "markdown",
   "id": "c85dbd55-4a3e-4146-8f8d-85826a0cab00",
   "metadata": {},
   "source": [
    "# Load to PostGIS"
   ]
  },
  {
   "cell_type": "code",
   "execution_count": 15,
   "id": "01e4a8e1-4e82-4b50-83bb-49b06d799f97",
   "metadata": {},
   "outputs": [
    {
     "name": "stdout",
     "output_type": "stream",
     "text": [
      "3.2 USE_GEOS=1 USE_PROJ=1 USE_STATS=1\n"
     ]
    }
   ],
   "source": [
    "with open(\"postgres-dsn.txt\") as f:\n",
    "    dst_engine = create_engine(f.read(), connect_args={\"application_name\": \"Jupyter Lab\"})\n",
    "\n",
    "with dst_engine.connect() as conn:\n",
    "    print(\n",
    "        conn.execute(text(\"SELECT postgis_version()\")).scalar()\n",
    "    )"
   ]
  },
  {
   "cell_type": "code",
   "execution_count": 16,
   "id": "717deb0d-fd20-4005-b13e-429ca900399c",
   "metadata": {},
   "outputs": [
    {
     "name": "stdout",
     "output_type": "stream",
     "text": [
      "[Column('fid', Integer(), table=<litoestratigrafia_100000>, key='objectid', primary_key=True, nullable=False),\n",
      " Column('id_unidade_estratigrafica', Numeric(precision=11, scale=0, asdecimal=False), table=<litoestratigrafia_100000>, nullable=False),\n",
      " Column('sigla', Unicode(length=180), table=<litoestratigrafia_100000>, nullable=False),\n",
      " Column('hierarquia', Unicode(length=180), table=<litoestratigrafia_100000>, nullable=False),\n",
      " Column('nome', Unicode(length=361), table=<litoestratigrafia_100000>),\n",
      " Column('ambiente_tectonico', Unicode(length=180), table=<litoestratigrafia_100000>),\n",
      " Column('sub_ambiente_tectonico', Unicode(length=180), table=<litoestratigrafia_100000>),\n",
      " Column('sigla_pai', Unicode(length=180), table=<litoestratigrafia_100000>),\n",
      " Column('nome_pai', Unicode(length=544), table=<litoestratigrafia_100000>),\n",
      " Column('legenda', Unicode(length=2000), table=<litoestratigrafia_100000>),\n",
      " Column('escala', Unicode(length=14), table=<litoestratigrafia_100000>),\n",
      " Column('mapa', Unicode(length=255), table=<litoestratigrafia_100000>, nullable=False),\n",
      " Column('litotipos', Text(), table=<litoestratigrafia_100000>),\n",
      " Column('range', Unicode(length=50), table=<litoestratigrafia_100000>, nullable=False),\n",
      " Column('idade_min', Numeric(precision=38, scale=0, asdecimal=False), table=<litoestratigrafia_100000>, nullable=False),\n",
      " Column('idade_max', Numeric(precision=38, scale=0, asdecimal=False), table=<litoestratigrafia_100000>, nullable=False),\n",
      " Column('eon_min', Unicode(length=180), table=<litoestratigrafia_100000>),\n",
      " Column('eon_max', Unicode(length=180), table=<litoestratigrafia_100000>),\n",
      " Column('era_min', Unicode(length=180), table=<litoestratigrafia_100000>),\n",
      " Column('era_max', Unicode(length=180), table=<litoestratigrafia_100000>),\n",
      " Column('sistema_min', Unicode(length=180), table=<litoestratigrafia_100000>),\n",
      " Column('sistema_max', Unicode(length=180), table=<litoestratigrafia_100000>),\n",
      " Column('epoca_min', Unicode(length=180), table=<litoestratigrafia_100000>),\n",
      " Column('epoca_max', Unicode(length=180), table=<litoestratigrafia_100000>),\n",
      " Column('geom', Geometry(geometry_type='MULTIPOLYGON', srid=4326, from_text='ST_GeomFromEWKT', name='geometry'), table=<litoestratigrafia_100000>),\n",
      " Column('siglas_historicas', Unicode(length=255), table=<litoestratigrafia_100000>)]\n"
     ]
    }
   ],
   "source": [
    "dst_metadata = MetaData()\n",
    "\n",
    "dst_table = src_table.to_metadata(\n",
    "    dst_metadata, \n",
    "    schema=dst_schema_name, \n",
    "    name=dst_table_name\n",
    ")\n",
    "\n",
    "# Add geometry Index\n",
    "Index(f\"{dst_table_name}_geometry_gist\", dst_table.columns[src_geom_col], postgresql_using=\"gist\")\n",
    "\n",
    "# Primary key\n",
    "dst_table.primary_key = PrimaryKeyConstraint(dst_table.columns[src_table_pk], name=f\"{dst_table_name}_pk\")\n",
    "dst_table.columns[src_table_pk].name = dst_table_pk\n",
    "dst_table.columns[src_table_pk].autoincrement = False\n",
    "\n",
    "# Geometry\n",
    "dst_table.columns[src_geom_col].name = dst_table_geom\n",
    "dst_table.columns[src_geom_col].type = Geometry(src_geom_type, srid=src_srid)\n",
    "dst_table.columns[src_geom_col].key = dst_table_geom\n",
    "\n",
    "# Create table on DB\n",
    "dst_table.create(bind=dst_engine, checkfirst=True)\n",
    "\n",
    "pprint([column for column in dst_table.columns])"
   ]
  },
  {
   "cell_type": "code",
   "execution_count": 17,
   "id": "2964a183-24d3-4156-8a63-ad995a6946bd",
   "metadata": {
    "scrolled": true
   },
   "outputs": [
    {
     "ename": "InvalidParameterValue",
     "evalue": "Geometry type (Polygon) does not match column type (MultiPolygon)\nCONTEXT:  COPY litoestratigrafia_100000, line 1, column geom: \"0103000020E6100000010000006E000000E8BCE283809F4CC080A8BBE5FCE035C008365C81749F4CC0506C3FF854E135C0A8...\"\n",
     "output_type": "error",
     "traceback": [
      "\u001b[31m---------------------------------------------------------------------------\u001b[39m",
      "\u001b[31mInvalidParameterValue\u001b[39m                     Traceback (most recent call last)",
      "\u001b[36mCell\u001b[39m\u001b[36m \u001b[39m\u001b[32mIn[17]\u001b[39m\u001b[32m, line 3\u001b[39m\n\u001b[32m      1\u001b[39m \u001b[38;5;66;03m# Write to PostGIS\u001b[39;00m\n\u001b[32m      2\u001b[39m \u001b[38;5;28;01mwith\u001b[39;00m dst_engine.connect() \u001b[38;5;28;01mas\u001b[39;00m conn:\n\u001b[32m----> \u001b[39m\u001b[32m3\u001b[39m     \u001b[43mgeodata\u001b[49m\u001b[43m.\u001b[49m\u001b[43mto_postgis\u001b[49m\u001b[43m(\u001b[49m\u001b[43mdst_table_name\u001b[49m\u001b[43m,\u001b[49m\u001b[43m \u001b[49m\u001b[43mconn\u001b[49m\u001b[43m,\u001b[49m\u001b[43m \u001b[49m\u001b[43mschema\u001b[49m\u001b[43m=\u001b[49m\u001b[43mdst_schema_name\u001b[49m\u001b[43m,\u001b[49m\u001b[43m \u001b[49m\u001b[43mindex\u001b[49m\u001b[43m=\u001b[49m\u001b[38;5;28;43;01mTrue\u001b[39;49;00m\u001b[43m,\u001b[49m\u001b[43m \u001b[49m\u001b[43mif_exists\u001b[49m\u001b[43m=\u001b[49m\u001b[33;43m'\u001b[39;49m\u001b[33;43mappend\u001b[39;49m\u001b[33;43m'\u001b[39;49m\u001b[43m)\u001b[49m\n",
      "\u001b[36mFile \u001b[39m\u001b[32m/opt/conda/envs/arcgis/lib/python3.11/site-packages/geopandas/geodataframe.py:2458\u001b[39m, in \u001b[36mGeoDataFrame.to_postgis\u001b[39m\u001b[34m(self, name, con, schema, if_exists, index, index_label, chunksize, dtype)\u001b[39m\n\u001b[32m   2395\u001b[39m \u001b[38;5;28;01mdef\u001b[39;00m\u001b[38;5;250m \u001b[39m\u001b[34mto_postgis\u001b[39m(\n\u001b[32m   2396\u001b[39m     \u001b[38;5;28mself\u001b[39m,\n\u001b[32m   2397\u001b[39m     name: \u001b[38;5;28mstr\u001b[39m,\n\u001b[32m   (...)\u001b[39m\u001b[32m   2404\u001b[39m     dtype=\u001b[38;5;28;01mNone\u001b[39;00m,\n\u001b[32m   2405\u001b[39m ) -> \u001b[38;5;28;01mNone\u001b[39;00m:\n\u001b[32m   2406\u001b[39m \u001b[38;5;250m    \u001b[39m\u001b[33;03m\"\"\"\u001b[39;00m\n\u001b[32m   2407\u001b[39m \u001b[33;03m    Upload GeoDataFrame into PostGIS database.\u001b[39;00m\n\u001b[32m   2408\u001b[39m \n\u001b[32m   (...)\u001b[39m\u001b[32m   2456\u001b[39m \n\u001b[32m   2457\u001b[39m \u001b[33;03m    \"\"\"\u001b[39;00m\n\u001b[32m-> \u001b[39m\u001b[32m2458\u001b[39m     \u001b[43mgeopandas\u001b[49m\u001b[43m.\u001b[49m\u001b[43mio\u001b[49m\u001b[43m.\u001b[49m\u001b[43msql\u001b[49m\u001b[43m.\u001b[49m\u001b[43m_write_postgis\u001b[49m\u001b[43m(\u001b[49m\n\u001b[32m   2459\u001b[39m \u001b[43m        \u001b[49m\u001b[38;5;28;43mself\u001b[39;49m\u001b[43m,\u001b[49m\u001b[43m \u001b[49m\u001b[43mname\u001b[49m\u001b[43m,\u001b[49m\u001b[43m \u001b[49m\u001b[43mcon\u001b[49m\u001b[43m,\u001b[49m\u001b[43m \u001b[49m\u001b[43mschema\u001b[49m\u001b[43m,\u001b[49m\u001b[43m \u001b[49m\u001b[43mif_exists\u001b[49m\u001b[43m,\u001b[49m\u001b[43m \u001b[49m\u001b[43mindex\u001b[49m\u001b[43m,\u001b[49m\u001b[43m \u001b[49m\u001b[43mindex_label\u001b[49m\u001b[43m,\u001b[49m\u001b[43m \u001b[49m\u001b[43mchunksize\u001b[49m\u001b[43m,\u001b[49m\u001b[43m \u001b[49m\u001b[43mdtype\u001b[49m\n\u001b[32m   2460\u001b[39m \u001b[43m    \u001b[49m\u001b[43m)\u001b[49m\n",
      "\u001b[36mFile \u001b[39m\u001b[32m/opt/conda/envs/arcgis/lib/python3.11/site-packages/geopandas/io/sql.py:445\u001b[39m, in \u001b[36m_write_postgis\u001b[39m\u001b[34m(gdf, name, con, schema, if_exists, index, index_label, chunksize, dtype)\u001b[39m\n\u001b[32m    442\u001b[39m                 \u001b[38;5;28;01mraise\u001b[39;00m \u001b[38;5;167;01mValueError\u001b[39;00m(msg)\n\u001b[32m    444\u001b[39m \u001b[38;5;28;01mwith\u001b[39;00m _get_conn(con) \u001b[38;5;28;01mas\u001b[39;00m connection:\n\u001b[32m--> \u001b[39m\u001b[32m445\u001b[39m     \u001b[43mgdf\u001b[49m\u001b[43m.\u001b[49m\u001b[43mto_sql\u001b[49m\u001b[43m(\u001b[49m\n\u001b[32m    446\u001b[39m \u001b[43m        \u001b[49m\u001b[43mname\u001b[49m\u001b[43m,\u001b[49m\n\u001b[32m    447\u001b[39m \u001b[43m        \u001b[49m\u001b[43mconnection\u001b[49m\u001b[43m,\u001b[49m\n\u001b[32m    448\u001b[39m \u001b[43m        \u001b[49m\u001b[43mschema\u001b[49m\u001b[43m=\u001b[49m\u001b[43mschema_name\u001b[49m\u001b[43m,\u001b[49m\n\u001b[32m    449\u001b[39m \u001b[43m        \u001b[49m\u001b[43mif_exists\u001b[49m\u001b[43m=\u001b[49m\u001b[43mif_exists\u001b[49m\u001b[43m,\u001b[49m\n\u001b[32m    450\u001b[39m \u001b[43m        \u001b[49m\u001b[43mindex\u001b[49m\u001b[43m=\u001b[49m\u001b[43mindex\u001b[49m\u001b[43m,\u001b[49m\n\u001b[32m    451\u001b[39m \u001b[43m        \u001b[49m\u001b[43mindex_label\u001b[49m\u001b[43m=\u001b[49m\u001b[43mindex_label\u001b[49m\u001b[43m,\u001b[49m\n\u001b[32m    452\u001b[39m \u001b[43m        \u001b[49m\u001b[43mchunksize\u001b[49m\u001b[43m=\u001b[49m\u001b[43mchunksize\u001b[49m\u001b[43m,\u001b[49m\n\u001b[32m    453\u001b[39m \u001b[43m        \u001b[49m\u001b[43mdtype\u001b[49m\u001b[43m=\u001b[49m\u001b[43mdtype\u001b[49m\u001b[43m,\u001b[49m\n\u001b[32m    454\u001b[39m \u001b[43m        \u001b[49m\u001b[43mmethod\u001b[49m\u001b[43m=\u001b[49m\u001b[43m_psql_insert_copy\u001b[49m\u001b[43m,\u001b[49m\n\u001b[32m    455\u001b[39m \u001b[43m    \u001b[49m\u001b[43m)\u001b[49m\n",
      "\u001b[36mFile \u001b[39m\u001b[32m/opt/conda/envs/arcgis/lib/python3.11/site-packages/pandas/util/_decorators.py:333\u001b[39m, in \u001b[36mdeprecate_nonkeyword_arguments.<locals>.decorate.<locals>.wrapper\u001b[39m\u001b[34m(*args, **kwargs)\u001b[39m\n\u001b[32m    327\u001b[39m \u001b[38;5;28;01mif\u001b[39;00m \u001b[38;5;28mlen\u001b[39m(args) > num_allow_args:\n\u001b[32m    328\u001b[39m     warnings.warn(\n\u001b[32m    329\u001b[39m         msg.format(arguments=_format_argument_list(allow_args)),\n\u001b[32m    330\u001b[39m         \u001b[38;5;167;01mFutureWarning\u001b[39;00m,\n\u001b[32m    331\u001b[39m         stacklevel=find_stack_level(),\n\u001b[32m    332\u001b[39m     )\n\u001b[32m--> \u001b[39m\u001b[32m333\u001b[39m \u001b[38;5;28;01mreturn\u001b[39;00m \u001b[43mfunc\u001b[49m\u001b[43m(\u001b[49m\u001b[43m*\u001b[49m\u001b[43margs\u001b[49m\u001b[43m,\u001b[49m\u001b[43m \u001b[49m\u001b[43m*\u001b[49m\u001b[43m*\u001b[49m\u001b[43mkwargs\u001b[49m\u001b[43m)\u001b[49m\n",
      "\u001b[36mFile \u001b[39m\u001b[32m/opt/conda/envs/arcgis/lib/python3.11/site-packages/pandas/core/generic.py:3106\u001b[39m, in \u001b[36mNDFrame.to_sql\u001b[39m\u001b[34m(self, name, con, schema, if_exists, index, index_label, chunksize, dtype, method)\u001b[39m\n\u001b[32m   2908\u001b[39m \u001b[38;5;250m\u001b[39m\u001b[33;03m\"\"\"\u001b[39;00m\n\u001b[32m   2909\u001b[39m \u001b[33;03mWrite records stored in a DataFrame to a SQL database.\u001b[39;00m\n\u001b[32m   2910\u001b[39m \n\u001b[32m   (...)\u001b[39m\u001b[32m   3102\u001b[39m \u001b[33;03m[(1,), (None,), (2,)]\u001b[39;00m\n\u001b[32m   3103\u001b[39m \u001b[33;03m\"\"\"\u001b[39;00m  \u001b[38;5;66;03m# noqa: E501\u001b[39;00m\n\u001b[32m   3104\u001b[39m \u001b[38;5;28;01mfrom\u001b[39;00m\u001b[38;5;250m \u001b[39m\u001b[34;01mpandas\u001b[39;00m\u001b[34;01m.\u001b[39;00m\u001b[34;01mio\u001b[39;00m\u001b[38;5;250m \u001b[39m\u001b[38;5;28;01mimport\u001b[39;00m sql\n\u001b[32m-> \u001b[39m\u001b[32m3106\u001b[39m \u001b[38;5;28;01mreturn\u001b[39;00m \u001b[43msql\u001b[49m\u001b[43m.\u001b[49m\u001b[43mto_sql\u001b[49m\u001b[43m(\u001b[49m\n\u001b[32m   3107\u001b[39m \u001b[43m    \u001b[49m\u001b[38;5;28;43mself\u001b[39;49m\u001b[43m,\u001b[49m\n\u001b[32m   3108\u001b[39m \u001b[43m    \u001b[49m\u001b[43mname\u001b[49m\u001b[43m,\u001b[49m\n\u001b[32m   3109\u001b[39m \u001b[43m    \u001b[49m\u001b[43mcon\u001b[49m\u001b[43m,\u001b[49m\n\u001b[32m   3110\u001b[39m \u001b[43m    \u001b[49m\u001b[43mschema\u001b[49m\u001b[43m=\u001b[49m\u001b[43mschema\u001b[49m\u001b[43m,\u001b[49m\n\u001b[32m   3111\u001b[39m \u001b[43m    \u001b[49m\u001b[43mif_exists\u001b[49m\u001b[43m=\u001b[49m\u001b[43mif_exists\u001b[49m\u001b[43m,\u001b[49m\n\u001b[32m   3112\u001b[39m \u001b[43m    \u001b[49m\u001b[43mindex\u001b[49m\u001b[43m=\u001b[49m\u001b[43mindex\u001b[49m\u001b[43m,\u001b[49m\n\u001b[32m   3113\u001b[39m \u001b[43m    \u001b[49m\u001b[43mindex_label\u001b[49m\u001b[43m=\u001b[49m\u001b[43mindex_label\u001b[49m\u001b[43m,\u001b[49m\n\u001b[32m   3114\u001b[39m \u001b[43m    \u001b[49m\u001b[43mchunksize\u001b[49m\u001b[43m=\u001b[49m\u001b[43mchunksize\u001b[49m\u001b[43m,\u001b[49m\n\u001b[32m   3115\u001b[39m \u001b[43m    \u001b[49m\u001b[43mdtype\u001b[49m\u001b[43m=\u001b[49m\u001b[43mdtype\u001b[49m\u001b[43m,\u001b[49m\n\u001b[32m   3116\u001b[39m \u001b[43m    \u001b[49m\u001b[43mmethod\u001b[49m\u001b[43m=\u001b[49m\u001b[43mmethod\u001b[49m\u001b[43m,\u001b[49m\n\u001b[32m   3117\u001b[39m \u001b[43m\u001b[49m\u001b[43m)\u001b[49m\n",
      "\u001b[36mFile \u001b[39m\u001b[32m/opt/conda/envs/arcgis/lib/python3.11/site-packages/pandas/io/sql.py:844\u001b[39m, in \u001b[36mto_sql\u001b[39m\u001b[34m(frame, name, con, schema, if_exists, index, index_label, chunksize, dtype, method, engine, **engine_kwargs)\u001b[39m\n\u001b[32m    839\u001b[39m     \u001b[38;5;28;01mraise\u001b[39;00m \u001b[38;5;167;01mNotImplementedError\u001b[39;00m(\n\u001b[32m    840\u001b[39m         \u001b[33m\"\u001b[39m\u001b[33m'\u001b[39m\u001b[33mframe\u001b[39m\u001b[33m'\u001b[39m\u001b[33m argument should be either a Series or a DataFrame\u001b[39m\u001b[33m\"\u001b[39m\n\u001b[32m    841\u001b[39m     )\n\u001b[32m    843\u001b[39m \u001b[38;5;28;01mwith\u001b[39;00m pandasSQL_builder(con, schema=schema, need_transaction=\u001b[38;5;28;01mTrue\u001b[39;00m) \u001b[38;5;28;01mas\u001b[39;00m pandas_sql:\n\u001b[32m--> \u001b[39m\u001b[32m844\u001b[39m     \u001b[38;5;28;01mreturn\u001b[39;00m \u001b[43mpandas_sql\u001b[49m\u001b[43m.\u001b[49m\u001b[43mto_sql\u001b[49m\u001b[43m(\u001b[49m\n\u001b[32m    845\u001b[39m \u001b[43m        \u001b[49m\u001b[43mframe\u001b[49m\u001b[43m,\u001b[49m\n\u001b[32m    846\u001b[39m \u001b[43m        \u001b[49m\u001b[43mname\u001b[49m\u001b[43m,\u001b[49m\n\u001b[32m    847\u001b[39m \u001b[43m        \u001b[49m\u001b[43mif_exists\u001b[49m\u001b[43m=\u001b[49m\u001b[43mif_exists\u001b[49m\u001b[43m,\u001b[49m\n\u001b[32m    848\u001b[39m \u001b[43m        \u001b[49m\u001b[43mindex\u001b[49m\u001b[43m=\u001b[49m\u001b[43mindex\u001b[49m\u001b[43m,\u001b[49m\n\u001b[32m    849\u001b[39m \u001b[43m        \u001b[49m\u001b[43mindex_label\u001b[49m\u001b[43m=\u001b[49m\u001b[43mindex_label\u001b[49m\u001b[43m,\u001b[49m\n\u001b[32m    850\u001b[39m \u001b[43m        \u001b[49m\u001b[43mschema\u001b[49m\u001b[43m=\u001b[49m\u001b[43mschema\u001b[49m\u001b[43m,\u001b[49m\n\u001b[32m    851\u001b[39m \u001b[43m        \u001b[49m\u001b[43mchunksize\u001b[49m\u001b[43m=\u001b[49m\u001b[43mchunksize\u001b[49m\u001b[43m,\u001b[49m\n\u001b[32m    852\u001b[39m \u001b[43m        \u001b[49m\u001b[43mdtype\u001b[49m\u001b[43m=\u001b[49m\u001b[43mdtype\u001b[49m\u001b[43m,\u001b[49m\n\u001b[32m    853\u001b[39m \u001b[43m        \u001b[49m\u001b[43mmethod\u001b[49m\u001b[43m=\u001b[49m\u001b[43mmethod\u001b[49m\u001b[43m,\u001b[49m\n\u001b[32m    854\u001b[39m \u001b[43m        \u001b[49m\u001b[43mengine\u001b[49m\u001b[43m=\u001b[49m\u001b[43mengine\u001b[49m\u001b[43m,\u001b[49m\n\u001b[32m    855\u001b[39m \u001b[43m        \u001b[49m\u001b[43m*\u001b[49m\u001b[43m*\u001b[49m\u001b[43mengine_kwargs\u001b[49m\u001b[43m,\u001b[49m\n\u001b[32m    856\u001b[39m \u001b[43m    \u001b[49m\u001b[43m)\u001b[49m\n",
      "\u001b[36mFile \u001b[39m\u001b[32m/opt/conda/envs/arcgis/lib/python3.11/site-packages/pandas/io/sql.py:2030\u001b[39m, in \u001b[36mSQLDatabase.to_sql\u001b[39m\u001b[34m(self, frame, name, if_exists, index, index_label, schema, chunksize, dtype, method, engine, **engine_kwargs)\u001b[39m\n\u001b[32m   2018\u001b[39m sql_engine = get_engine(engine)\n\u001b[32m   2020\u001b[39m table = \u001b[38;5;28mself\u001b[39m.prep_table(\n\u001b[32m   2021\u001b[39m     frame=frame,\n\u001b[32m   2022\u001b[39m     name=name,\n\u001b[32m   (...)\u001b[39m\u001b[32m   2027\u001b[39m     dtype=dtype,\n\u001b[32m   2028\u001b[39m )\n\u001b[32m-> \u001b[39m\u001b[32m2030\u001b[39m total_inserted = \u001b[43msql_engine\u001b[49m\u001b[43m.\u001b[49m\u001b[43minsert_records\u001b[49m\u001b[43m(\u001b[49m\n\u001b[32m   2031\u001b[39m \u001b[43m    \u001b[49m\u001b[43mtable\u001b[49m\u001b[43m=\u001b[49m\u001b[43mtable\u001b[49m\u001b[43m,\u001b[49m\n\u001b[32m   2032\u001b[39m \u001b[43m    \u001b[49m\u001b[43mcon\u001b[49m\u001b[43m=\u001b[49m\u001b[38;5;28;43mself\u001b[39;49m\u001b[43m.\u001b[49m\u001b[43mcon\u001b[49m\u001b[43m,\u001b[49m\n\u001b[32m   2033\u001b[39m \u001b[43m    \u001b[49m\u001b[43mframe\u001b[49m\u001b[43m=\u001b[49m\u001b[43mframe\u001b[49m\u001b[43m,\u001b[49m\n\u001b[32m   2034\u001b[39m \u001b[43m    \u001b[49m\u001b[43mname\u001b[49m\u001b[43m=\u001b[49m\u001b[43mname\u001b[49m\u001b[43m,\u001b[49m\n\u001b[32m   2035\u001b[39m \u001b[43m    \u001b[49m\u001b[43mindex\u001b[49m\u001b[43m=\u001b[49m\u001b[43mindex\u001b[49m\u001b[43m,\u001b[49m\n\u001b[32m   2036\u001b[39m \u001b[43m    \u001b[49m\u001b[43mschema\u001b[49m\u001b[43m=\u001b[49m\u001b[43mschema\u001b[49m\u001b[43m,\u001b[49m\n\u001b[32m   2037\u001b[39m \u001b[43m    \u001b[49m\u001b[43mchunksize\u001b[49m\u001b[43m=\u001b[49m\u001b[43mchunksize\u001b[49m\u001b[43m,\u001b[49m\n\u001b[32m   2038\u001b[39m \u001b[43m    \u001b[49m\u001b[43mmethod\u001b[49m\u001b[43m=\u001b[49m\u001b[43mmethod\u001b[49m\u001b[43m,\u001b[49m\n\u001b[32m   2039\u001b[39m \u001b[43m    \u001b[49m\u001b[43m*\u001b[49m\u001b[43m*\u001b[49m\u001b[43mengine_kwargs\u001b[49m\u001b[43m,\u001b[49m\n\u001b[32m   2040\u001b[39m \u001b[43m\u001b[49m\u001b[43m)\u001b[49m\n\u001b[32m   2042\u001b[39m \u001b[38;5;28mself\u001b[39m.check_case_sensitive(name=name, schema=schema)\n\u001b[32m   2043\u001b[39m \u001b[38;5;28;01mreturn\u001b[39;00m total_inserted\n",
      "\u001b[36mFile \u001b[39m\u001b[32m/opt/conda/envs/arcgis/lib/python3.11/site-packages/pandas/io/sql.py:1570\u001b[39m, in \u001b[36mSQLAlchemyEngine.insert_records\u001b[39m\u001b[34m(self, table, con, frame, name, index, schema, chunksize, method, **engine_kwargs)\u001b[39m\n\u001b[32m   1567\u001b[39m \u001b[38;5;28;01mfrom\u001b[39;00m\u001b[38;5;250m \u001b[39m\u001b[34;01msqlalchemy\u001b[39;00m\u001b[38;5;250m \u001b[39m\u001b[38;5;28;01mimport\u001b[39;00m exc\n\u001b[32m   1569\u001b[39m \u001b[38;5;28;01mtry\u001b[39;00m:\n\u001b[32m-> \u001b[39m\u001b[32m1570\u001b[39m     \u001b[38;5;28;01mreturn\u001b[39;00m \u001b[43mtable\u001b[49m\u001b[43m.\u001b[49m\u001b[43minsert\u001b[49m\u001b[43m(\u001b[49m\u001b[43mchunksize\u001b[49m\u001b[43m=\u001b[49m\u001b[43mchunksize\u001b[49m\u001b[43m,\u001b[49m\u001b[43m \u001b[49m\u001b[43mmethod\u001b[49m\u001b[43m=\u001b[49m\u001b[43mmethod\u001b[49m\u001b[43m)\u001b[49m\n\u001b[32m   1571\u001b[39m \u001b[38;5;28;01mexcept\u001b[39;00m exc.StatementError \u001b[38;5;28;01mas\u001b[39;00m err:\n\u001b[32m   1572\u001b[39m     \u001b[38;5;66;03m# GH34431\u001b[39;00m\n\u001b[32m   1573\u001b[39m     \u001b[38;5;66;03m# https://stackoverflow.com/a/67358288/6067848\u001b[39;00m\n\u001b[32m   1574\u001b[39m     msg = \u001b[33mr\u001b[39m\u001b[33m\"\"\"\u001b[39m\u001b[33m(\u001b[39m\u001b[33m\\\u001b[39m\u001b[33m(1054, \u001b[39m\u001b[33m\"\u001b[39m\u001b[33mUnknown column \u001b[39m\u001b[33m'\u001b[39m\u001b[33minf(e0)?\u001b[39m\u001b[33m'\u001b[39m\u001b[33m in \u001b[39m\u001b[33m'\u001b[39m\u001b[33mfield list\u001b[39m\u001b[33m'\u001b[39m\u001b[33m\"\u001b[39m\u001b[33m\\\u001b[39m\u001b[33m))(?#\u001b[39m\n\u001b[32m   1575\u001b[39m \u001b[33m    )|inf can not be used with MySQL\u001b[39m\u001b[33m\"\"\"\u001b[39m\n",
      "\u001b[36mFile \u001b[39m\u001b[32m/opt/conda/envs/arcgis/lib/python3.11/site-packages/pandas/io/sql.py:1121\u001b[39m, in \u001b[36mSQLTable.insert\u001b[39m\u001b[34m(self, chunksize, method)\u001b[39m\n\u001b[32m   1118\u001b[39m     \u001b[38;5;28;01mbreak\u001b[39;00m\n\u001b[32m   1120\u001b[39m chunk_iter = \u001b[38;5;28mzip\u001b[39m(*(arr[start_i:end_i] \u001b[38;5;28;01mfor\u001b[39;00m arr \u001b[38;5;129;01min\u001b[39;00m data_list))\n\u001b[32m-> \u001b[39m\u001b[32m1121\u001b[39m num_inserted = \u001b[43mexec_insert\u001b[49m\u001b[43m(\u001b[49m\u001b[43mconn\u001b[49m\u001b[43m,\u001b[49m\u001b[43m \u001b[49m\u001b[43mkeys\u001b[49m\u001b[43m,\u001b[49m\u001b[43m \u001b[49m\u001b[43mchunk_iter\u001b[49m\u001b[43m)\u001b[49m\n\u001b[32m   1122\u001b[39m \u001b[38;5;66;03m# GH 46891\u001b[39;00m\n\u001b[32m   1123\u001b[39m \u001b[38;5;28;01mif\u001b[39;00m num_inserted \u001b[38;5;129;01mis\u001b[39;00m \u001b[38;5;129;01mnot\u001b[39;00m \u001b[38;5;28;01mNone\u001b[39;00m:\n",
      "\u001b[36mFile \u001b[39m\u001b[32m/opt/conda/envs/arcgis/lib/python3.11/site-packages/geopandas/io/sql.py:339\u001b[39m, in \u001b[36m_psql_insert_copy\u001b[39m\u001b[34m(tbl, conn, keys, data_iter)\u001b[39m\n\u001b[32m    337\u001b[39m         copy.write(s_buf.read())\n\u001b[32m    338\u001b[39m \u001b[38;5;28;01melse\u001b[39;00m:  \u001b[38;5;66;03m# otherwise use psycopg2 method\u001b[39;00m\n\u001b[32m--> \u001b[39m\u001b[32m339\u001b[39m     \u001b[43mcur\u001b[49m\u001b[43m.\u001b[49m\u001b[43mcopy_expert\u001b[49m\u001b[43m(\u001b[49m\u001b[43msql\u001b[49m\u001b[43m,\u001b[49m\u001b[43m \u001b[49m\u001b[43ms_buf\u001b[49m\u001b[43m)\u001b[49m\n",
      "\u001b[31mInvalidParameterValue\u001b[39m: Geometry type (Polygon) does not match column type (MultiPolygon)\nCONTEXT:  COPY litoestratigrafia_100000, line 1, column geom: \"0103000020E6100000010000006E000000E8BCE283809F4CC080A8BBE5FCE035C008365C81749F4CC0506C3FF854E135C0A8...\"\n"
     ]
    }
   ],
   "source": [
    "# Write to PostGIS\n",
    "with dst_engine.connect() as conn:\n",
    "    geodata.to_postgis(dst_table_name, conn, schema=dst_schema_name, index=True, if_exists='append')"
   ]
  },
  {
   "cell_type": "code",
   "execution_count": null,
   "id": "16f7ac0a-99d6-474d-86cc-a634c11b4ff6",
   "metadata": {},
   "outputs": [],
   "source": [
    "geodata.geom.count_geometries().value_counts()"
   ]
  },
  {
   "cell_type": "code",
   "execution_count": null,
   "id": "7961f98d-bd1e-43c5-b288-d3b8e3375bed",
   "metadata": {},
   "outputs": [],
   "source": [
    "# geometry_prop['type'] = _type[0] if len(_type) == 1 else 'GEOMETRYCOLLECTION'\n",
    "with src_engine.connect() as conn:   \n",
    "\n",
    "    result = conn.execute(\n",
    "        text(f\"SELECT max(sde.st_numgeometries({geometry})) FROM {verbose_table_name}\")\n",
    "    ).scalar()      \n",
    "        #text(f\"SELECT DISTINCT replace(replace(upper(sde.st_geometrytype({geometry})), 'ST_', ''), 'MULTI', '') FROM {verbose_table_name}\")        \n",
    "    # ).fetchall()\n",
    "\n",
    "result > 1"
   ]
  }
 ],
 "metadata": {
  "kernelspec": {
   "display_name": "arcgis",
   "language": "python",
   "name": "arcgis"
  },
  "language_info": {
   "codemirror_mode": {
    "name": "ipython",
    "version": 3
   },
   "file_extension": ".py",
   "mimetype": "text/x-python",
   "name": "python",
   "nbconvert_exporter": "python",
   "pygments_lexer": "ipython3",
   "version": "3.11.12"
  }
 },
 "nbformat": 4,
 "nbformat_minor": 5
}
